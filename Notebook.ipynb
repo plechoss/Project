{
 "cells": [
  {
   "cell_type": "code",
   "execution_count": 108,
   "metadata": {},
   "outputs": [
    {
     "name": "stdout",
     "output_type": "stream",
     "text": [
      "[nltk_data] Downloading package stopwords to\n",
      "[nltk_data]     /Users/michal/nltk_data...\n",
      "[nltk_data]   Package stopwords is already up-to-date!\n",
      "[nltk_data] Downloading package wordnet to /Users/michal/nltk_data...\n",
      "[nltk_data]   Package wordnet is already up-to-date!\n",
      "[nltk_data] Downloading package averaged_perceptron_tagger to\n",
      "[nltk_data]     /Users/michal/nltk_data...\n",
      "[nltk_data]   Package averaged_perceptron_tagger is already up-to-\n",
      "[nltk_data]       date!\n",
      "[nltk_data] Downloading package omw to /Users/michal/nltk_data...\n",
      "[nltk_data]   Package omw is already up-to-date!\n"
     ]
    }
   ],
   "source": [
    "import re\n",
    "import pandas as pd\n",
    "import numpy as np\n",
    "import matplotlib\n",
    "import matplotlib.pyplot as plt\n",
    "from os import environ\n",
    "#from mpl_toolkits.basemap import Basemap\n",
    "\n",
    "from geotext import GeoText\n",
    "%matplotlib inline\n",
    "\n",
    "import findspark\n",
    "findspark.init()\n",
    "\n",
    "from pyspark.sql import *\n",
    "from pyspark.sql.functions import *\n",
    "from pyspark.sql.types import *\n",
    "from pyspark.sql import SparkSession\n",
    "from pyspark import SparkContext\n",
    "import string\n",
    "import nltk\n",
    "from nltk.corpus import stopwords \n",
    "from nltk.corpus import wordnet as wn\n",
    "from nltk.stem.wordnet import WordNetLemmatizer\n",
    "from collections import Counter\n",
    "from geopy.geocoders import Nominatim\n",
    "import spacy\n",
    "import time\n",
    "\n",
    "from spacy.lang.en import English\n",
    "\n",
    "spark = SparkSession.builder.getOrCreate()\n",
    "sc = spark.sparkContext\n",
    "\n",
    "from pyspark.sql import SQLContext\n",
    "sqlContext = SQLContext(sc)\n",
    "spacy.load('en')\n",
    "\n",
    "# Dowloads the necessary toolkit modules\n",
    "nltk.download('stopwords')\n",
    "nltk.download('wordnet')\n",
    "nltk.download('averaged_perceptron_tagger')\n",
    "nltk.download('omw')\n",
    "\n",
    "DATA_DIR = 'report/data/'"
   ]
  },
  {
   "cell_type": "markdown",
   "metadata": {},
   "source": [
    "# IMDb"
   ]
  },
  {
   "cell_type": "markdown",
   "metadata": {},
   "source": [
    "We'll be using four of the IMDB datasets: \n",
    "1. basics - for various metadata about the movie/tv series\n",
    "* principals - principals - for the character name info\n",
    "* episode - to match the subtitles tv series episodes with the overall series in the database\n",
    "* ratings - for the ratings and views info\n",
    "\n",
    "All of them are available for dowload and described here: [IMDb](https://www.imdb.com/interfaces/)."
   ]
  },
  {
   "cell_type": "code",
   "execution_count": 6,
   "metadata": {},
   "outputs": [],
   "source": [
    "# Loads the IMDb datasets\n",
    "basics = spark.read.csv(DATA_DIR + 'title.basics.tsv', sep='\\t', header=True, nullValue=\"\\\\N\")\n",
    "principals = spark.read.csv(DATA_DIR + 'title.principals.tsv', sep='\\t', header=True, nullValue='\\\\N')\n",
    "episode = spark.read.csv(DATA_DIR + 'title.episode.tsv', sep='\\t', header=True,  nullValue=\"\\\\N\")\n",
    "ratings = spark.read.csv(DATA_DIR + 'title.ratings.tsv', sep='\\t', header=True,  nullValue=\"\\\\N\")"
   ]
  },
  {
   "cell_type": "code",
   "execution_count": 7,
   "metadata": {},
   "outputs": [
    {
     "name": "stdout",
     "output_type": "stream",
     "text": [
      "root\n",
      " |-- tconst: string (nullable = true)\n",
      " |-- titleType: string (nullable = true)\n",
      " |-- primaryTitle: string (nullable = true)\n",
      " |-- originalTitle: string (nullable = true)\n",
      " |-- isAdult: string (nullable = true)\n",
      " |-- startYear: string (nullable = true)\n",
      " |-- endYear: string (nullable = true)\n",
      " |-- runtimeMinutes: string (nullable = true)\n",
      " |-- genres: string (nullable = true)\n",
      "\n"
     ]
    }
   ],
   "source": [
    "basics.printSchema()"
   ]
  },
  {
   "cell_type": "code",
   "execution_count": 8,
   "metadata": {},
   "outputs": [
    {
     "name": "stdout",
     "output_type": "stream",
     "text": [
      "root\n",
      " |-- tconst: string (nullable = true)\n",
      " |-- ordering: string (nullable = true)\n",
      " |-- nconst: string (nullable = true)\n",
      " |-- category: string (nullable = true)\n",
      " |-- job: string (nullable = true)\n",
      " |-- characters: string (nullable = true)\n",
      "\n"
     ]
    }
   ],
   "source": [
    "principals.printSchema()"
   ]
  },
  {
   "cell_type": "code",
   "execution_count": 9,
   "metadata": {},
   "outputs": [
    {
     "name": "stdout",
     "output_type": "stream",
     "text": [
      "root\n",
      " |-- tconst: string (nullable = true)\n",
      " |-- parentTconst: string (nullable = true)\n",
      " |-- seasonNumber: string (nullable = true)\n",
      " |-- episodeNumber: string (nullable = true)\n",
      "\n"
     ]
    }
   ],
   "source": [
    "episode.printSchema()"
   ]
  },
  {
   "cell_type": "code",
   "execution_count": 10,
   "metadata": {},
   "outputs": [
    {
     "name": "stdout",
     "output_type": "stream",
     "text": [
      "root\n",
      " |-- tconst: string (nullable = true)\n",
      " |-- averageRating: string (nullable = true)\n",
      " |-- numVotes: string (nullable = true)\n",
      "\n"
     ]
    }
   ],
   "source": [
    "ratings.printSchema()"
   ]
  },
  {
   "cell_type": "markdown",
   "metadata": {},
   "source": [
    "We only need the following fields from every table:\n",
    "* basics:\n",
    "    * tconst, startYear, endYear (for TV series), genres\n",
    "* episode:\n",
    "    * all fields\n",
    "* ratings:\n",
    "    * all fields"
   ]
  },
  {
   "cell_type": "code",
   "execution_count": 11,
   "metadata": {},
   "outputs": [
    {
     "name": "stdout",
     "output_type": "stream",
     "text": [
      "+------------+\n",
      "|   titleType|\n",
      "+------------+\n",
      "|    tvSeries|\n",
      "|tvMiniSeries|\n",
      "|     tvMovie|\n",
      "|   tvEpisode|\n",
      "|       movie|\n",
      "|   tvSpecial|\n",
      "|       video|\n",
      "|   videoGame|\n",
      "|     tvShort|\n",
      "|       short|\n",
      "+------------+\n",
      "\n"
     ]
    }
   ],
   "source": [
    "basics.select('titleType').distinct().show()"
   ]
  },
  {
   "cell_type": "markdown",
   "metadata": {},
   "source": [
    "We're not interested in the `videoGame`, `video`, `tvShort` or `short` types, thus we filter them out."
   ]
  },
  {
   "cell_type": "code",
   "execution_count": 12,
   "metadata": {},
   "outputs": [],
   "source": [
    "# Removes the originalTitle and isAdult columns\n",
    "basics = basics.filter(col('titleType') != 'short').filter(\n",
    "    col('titleType') != 'videoGame').filter(col('titleType') != 'tvShort').filter(col('titleType') != 'videos')\n",
    "\n",
    "# Removes episodes with empty series or episode numbers\n",
    "episode = episode.filter(episode.seasonNumber.isNotNull()).filter(episode.episodeNumber.isNotNull()).withColumnRenamed(\n",
    "    \"tconst\", \"episodeTconst\")"
   ]
  },
  {
   "cell_type": "code",
   "execution_count": 13,
   "metadata": {},
   "outputs": [
    {
     "name": "stdout",
     "output_type": "stream",
     "text": [
      "+---------+---------+------------+-------------+-------+---------+-------+--------------+--------------------+\n",
      "|   tconst|titleType|primaryTitle|originalTitle|isAdult|startYear|endYear|runtimeMinutes|              genres|\n",
      "+---------+---------+------------+-------------+-------+---------+-------+--------------+--------------------+\n",
      "|tt0098936| tvSeries|  Twin Peaks|   Twin Peaks|      0|     1990|   1991|            47| Crime,Drama,Mystery|\n",
      "|tt0186641|    video|  Twin Peaks|   Twin Peaks|      1|     1993|   null|          null|               Adult|\n",
      "|tt2395641|tvEpisode|  Twin Peaks|   Twin Peaks|      0|     2006|   null|          null|         Documentary|\n",
      "|tt2650780|tvEpisode|  Twin Peaks|   Twin Peaks|      0|     2013|   null|            44|Adventure,Reality-TV|\n",
      "|tt3225942|tvEpisode|  Twin Peaks|   Twin Peaks|      0|     2013|   null|            43|          Reality-TV|\n",
      "+---------+---------+------------+-------------+-------+---------+-------+--------------+--------------------+\n",
      "only showing top 5 rows\n",
      "\n"
     ]
    }
   ],
   "source": [
    "# Note that we leave the endYear column because it is valid for the TV Series, e.x.\n",
    "basics.filter(col('primaryTitle') == 'Twin Peaks').show(5)"
   ]
  },
  {
   "cell_type": "code",
   "execution_count": 14,
   "metadata": {},
   "outputs": [
    {
     "name": "stdout",
     "output_type": "stream",
     "text": [
      "+---------+---------+--------------------+--------------------+-------+---------+-------+--------------+--------------------+\n",
      "|   tconst|titleType|        primaryTitle|       originalTitle|isAdult|startYear|endYear|runtimeMinutes|              genres|\n",
      "+---------+---------+--------------------+--------------------+-------+---------+-------+--------------+--------------------+\n",
      "|tt0000009|    movie|          Miss Jerry|          Miss Jerry|      0|     1894|   null|            45|             Romance|\n",
      "|tt0000147|    movie|The Corbett-Fitzs...|The Corbett-Fitzs...|      0|     1897|   null|            20|Documentary,News,...|\n",
      "|tt0000335|    movie|Soldiers of the C...|Soldiers of the C...|      0|     1900|   null|          null|     Biography,Drama|\n",
      "|tt0000502|    movie|            Bohemios|            Bohemios|      0|     1905|   null|           100|                null|\n",
      "|tt0000574|    movie|The Story of the ...|The Story of the ...|      0|     1906|   null|            70|Biography,Crime,D...|\n",
      "+---------+---------+--------------------+--------------------+-------+---------+-------+--------------+--------------------+\n",
      "only showing top 5 rows\n",
      "\n"
     ]
    }
   ],
   "source": [
    "basics.show(5)"
   ]
  },
  {
   "cell_type": "code",
   "execution_count": 15,
   "metadata": {},
   "outputs": [
    {
     "name": "stdout",
     "output_type": "stream",
     "text": [
      "+-------------+------------+------------+-------------+\n",
      "|episodeTconst|parentTconst|seasonNumber|episodeNumber|\n",
      "+-------------+------------+------------+-------------+\n",
      "|    tt0041951|   tt0041038|           1|            9|\n",
      "|    tt0042816|   tt0989125|           1|           17|\n",
      "|    tt0043426|   tt0040051|           3|           42|\n",
      "|    tt0043631|   tt0989125|           2|           16|\n",
      "|    tt0043693|   tt0989125|           2|            8|\n",
      "+-------------+------------+------------+-------------+\n",
      "only showing top 5 rows\n",
      "\n"
     ]
    }
   ],
   "source": [
    "episode.show(5)"
   ]
  },
  {
   "cell_type": "code",
   "execution_count": 16,
   "metadata": {},
   "outputs": [
    {
     "name": "stdout",
     "output_type": "stream",
     "text": [
      "+---------+-------------+--------+\n",
      "|   tconst|averageRating|numVotes|\n",
      "+---------+-------------+--------+\n",
      "|tt0000001|          5.8|    1444|\n",
      "|tt0000002|          6.4|     174|\n",
      "|tt0000003|          6.6|    1045|\n",
      "|tt0000004|          6.4|     104|\n",
      "|tt0000005|          6.2|    1742|\n",
      "+---------+-------------+--------+\n",
      "only showing top 5 rows\n",
      "\n"
     ]
    }
   ],
   "source": [
    "ratings.show(5)"
   ]
  },
  {
   "cell_type": "markdown",
   "metadata": {},
   "source": [
    "We separate the movies and TV series, as they need to be processed differently."
   ]
  },
  {
   "cell_type": "code",
   "execution_count": 17,
   "metadata": {},
   "outputs": [
    {
     "name": "stdout",
     "output_type": "stream",
     "text": [
      "Number of movies in the IMDb database: 505137\n",
      "Number of movies made in 2018 : 17094\n",
      "Number of movies made in 1998 : 4534\n"
     ]
    },
    {
     "data": {
      "image/png": "[encoded data removed]",
      "text/plain": [
       "<Figure size 1080x576 with 1 Axes>"
      ]
     },
     "metadata": {
      "needs_background": "light"
     },
     "output_type": "display_data"
    }
   ],
   "source": [
    "movies = basics.filter(basics.titleType == \"movie\")\n",
    "\n",
    "movies_years = movies.select(\"startYear\").dropna().toPandas()[\"startYear\"]\n",
    "print(\"Number of movies in the IMDb database: {}\".format(movies.count()))\n",
    "\n",
    "# We cast the years to int\n",
    "movies_years = movies_years.astype(int)\n",
    "\n",
    "# We plot the histogram only for already released movies (a.k.a. movies that were released in or before 2018)\n",
    "movies_years = movies_years[movies_years <= 2018]\n",
    "movies_years.plot(kind=\"hist\", bins=movies_years.max() - movies_years.min() + 1, figsize=(15,8),\n",
    "                  title=\"Evolution of the number of movies produced each year\");\n",
    "plt.savefig('docs/img/movies_evolution.png', transparent=True)\n",
    "print(\"Number of movies made in 2018 : {}\".format(movies_years[movies_years == 2018].shape[0]))\n",
    "print(\"Number of movies made in 1998 : {}\".format(movies_years[movies_years == 1998].shape[0]))"
   ]
  },
  {
   "cell_type": "code",
   "execution_count": 18,
   "metadata": {},
   "outputs": [
    {
     "name": "stdout",
     "output_type": "stream",
     "text": [
      "Number of TV series in the IMDb database: 156758\n",
      "Number of TV episodes in the IMDb databse: 2911725\n",
      "Number of TV series made in 2018 : 6676\n",
      "Number of TV series made in 1998 : 2162\n"
     ]
    },
    {
     "data": {
      "image/png": "[encoded data removed]",
      "text/plain": [
       "<Figure size 1080x576 with 1 Axes>"
      ]
     },
     "metadata": {
      "needs_background": "light"
     },
     "output_type": "display_data"
    }
   ],
   "source": [
    "tvseries = basics.filter(((basics.titleType == \"tvSeries\") | (basics.titleType == \"miniTvSeries\")))\n",
    "tvseries_years = tvseries.select(\"startYear\").dropna().toPandas()[\"startYear\"]\n",
    "print(\"Number of TV series in the IMDb database: {}\".format(tvseries.count()))\n",
    "print(\"Number of TV episodes in the IMDb databse: {}\".format(episode.count()))\n",
    "\n",
    "# We cast the defined years to int\n",
    "tvseries_years = tvseries_years.astype(int)\n",
    "\n",
    "# We plot the histogram only for already released tv series (a.k.a. tv series that were released in or before 2018)\n",
    "tvseries_years = tvseries_years[tvseries_years <= 2018]\n",
    "tvseries_years.plot(kind=\"hist\", bins=tvseries_years.max() - tvseries_years.min() + 1, figsize=(15,8),\n",
    "                  title=\"Evolution of the number of TV series produced each year\");\n",
    "plt.savefig('docs/img/tv_series_evolution.png', transparent=True)\n",
    "print(\"Number of TV series made in 2018 : {}\".format(tvseries_years[tvseries_years == 2018].shape[0]))\n",
    "print(\"Number of TV series made in 1998 : {}\".format(tvseries_years[tvseries_years == 1998].shape[0]))"
   ]
  },
  {
   "cell_type": "code",
   "execution_count": 19,
   "metadata": {},
   "outputs": [],
   "source": [
    "movies = movies.join(ratings, \"tconst\")\n",
    "\n",
    "# Due to the way the structure of the OpenSubtitles dataset (require us to load one subtitle file per episode),\n",
    "# we will only extract the topics on the first episode of each tv series (the pilot)\n",
    "pilots = episode.filter(episode.seasonNumber == 1).filter(episode.episodeNumber == 1)\n",
    "tvseries = tvseries.join(ratings, \"tconst\")\n",
    "tvseries = tvseries.join(pilots, tvseries.tconst == pilots.parentTconst)"
   ]
  },
  {
   "cell_type": "code",
   "execution_count": 20,
   "metadata": {},
   "outputs": [
    {
     "name": "stdout",
     "output_type": "stream",
     "text": [
      "Number of relevant movies: 11430\n",
      "Number of relevant TV series: 1524\n"
     ]
    }
   ],
   "source": [
    "movies_col = [\"tconst\", \"startYear\", \"genres\", \"averageRating\", \"numVotes\"]\n",
    "tvseries_col = [\"tconst\", \"startYear\", \"genres\", \"averageRating\", \"numVotes\", \"episodeTconst\"]\n",
    "# According to IMDb database, ratings are only relevant when there are more than 5000 votes.\n",
    "movies_relevant = movies.filter(movies.numVotes > 5000).select(*movies_col)\n",
    "print(\"Number of relevant movies: {}\".format(movies_relevant.count()))\n",
    "tvseries_relevant = tvseries.filter(tvseries.numVotes > 5000).select(*tvseries_col)\n",
    "print(\"Number of relevant TV series: {}\".format(tvseries_relevant.count()))"
   ]
  },
  {
   "cell_type": "code",
   "execution_count": 21,
   "metadata": {},
   "outputs": [],
   "source": [
    "movies_relevant.write.parquet(\"movies.parquet\", mode=\"overwrite\")\n",
    "tvseries_relevant.write.parquet(\"tvseries.parquet\", mode=\"overwrite\")"
   ]
  },
  {
   "cell_type": "markdown",
   "metadata": {},
   "source": [
    "# Subtitle data"
   ]
  },
  {
   "cell_type": "markdown",
   "metadata": {},
   "source": [
    "## Extracting the subtitles"
   ]
  },
  {
   "cell_type": "markdown",
   "metadata": {},
   "source": [
    "**This part of the notebook is reserved for the subtitle data collection. Considering the data set is 31 GB long, the code below was ran on the cluster (and thus cannot be ran on this notebook).**"
   ]
  },
  {
   "cell_type": "raw",
   "metadata": {},
   "source": [
    "from pyspark.sql import SparkSession\n",
    "from pyspark.sql import SQLContext\n",
    "from pyspark.sql.functions import *\n",
    "import csv\n",
    "from os import environ\n",
    "\n",
    "environ['PYSPARK_SUBMIT_ARGS'] = '--packages com.databricks:spark-xml_2.10:0.4.0 pyspark-shell'\n",
    "\n",
    "spark = SparkSession.builder.config(\"spark.jars\", \"spark-xml_2.10-0.4.0.jar\").getOrCreate()\n",
    "sc = spark.sparkContext\n",
    "sqlContext = SQLContext(sc)\n",
    "\n",
    "\n",
    "def getCleanData(id, year):\n",
    "    path = 'hdfs:///datasets/opensubtitle/OpenSubtitles2018/xml/en/' + year + '/' + str(int(id[2:])) + '/*'\n",
    "    try:\n",
    "        df = sqlContext.read.format('com.databricks.spark.xml').options(rootTag='document', rowTag='s').option(\n",
    "            \"valueTag\", \"content\").load(path)\n",
    "        data = df.select(explode('w.content').alias('word')).rdd.map(lambda x: x['word']).reduce(\n",
    "            lambda x, y: x + ' ' + y)\n",
    "        return id, data\n",
    "    except:\n",
    "        return id, \"\"\n",
    "\n",
    "\n",
    "titlesRatings = sqlContext.read.parquet('movies.parquet')\n",
    "temp = titlesRatings.select('tconst', 'startYear').rdd.map(lambda x: (x.tconst, x.startYear)).collect()\n",
    "result = [getCleanData(i, year) for i, year in temp]\n",
    "output = spark.createDataFrame(result, schema=['tconst', 'subs'])\n",
    "output = titleRatings.join(output, \"tconst\")\n",
    "output.write.mode('overwrite').parquet(\"movie_subs.parquet\")\n",
    "\n",
    "titlesRatings = sqlContext.read.parquet('tv.parquet')\n",
    "temp = titlesRatings.select('episodeTconst', 'startYear').rdd.map(lambda x: (x.episodeTconst, x.startYear)).collect()\n",
    "result = [getCleanData(i, year) for i, year in temp]\n",
    "output = spark.createDataFrame(result, schema=['tconst', 'subs'])\n",
    "output = titleRatings.join(output, \"tconst\")\n",
    "output.write.mode('overwrite').parquet(\"tv_subs.parquet\")\n",
    "spark.stop()"
   ]
  },
  {
   "cell_type": "markdown",
   "metadata": {},
   "source": [
    "## Processing"
   ]
  },
  {
   "cell_type": "markdown",
   "metadata": {},
   "source": [
    "Due to the problems we ran accross on the cluster (`nltk` not working properly, random failures) which made debugging really hard, we decided to do the entire processing locally.\n",
    "\n",
    "We also noted that for most of the elements that we decided were relevant (in the first part of the notebook), the english subtitles were empty (the folders in the dataset existed, but they didn't contain any subtitle files), thus our results are less relevant."
   ]
  },
  {
   "cell_type": "code",
   "execution_count": 127,
   "metadata": {},
   "outputs": [],
   "source": [
    "movies_subs = sqlContext.read.parquet('report/data/titlesRatingsAndSubsAll*.parquet')\n",
    "movies_subs = movies_subs.filter(movies_subs.subs != '')"
   ]
  },
  {
   "cell_type": "code",
   "execution_count": 158,
   "metadata": {},
   "outputs": [],
   "source": [
    "tv_subs = sqlContext.read.parquet('report/data/televisionSubs*.parquet')\n",
    "tv_subs = tv_subs.filter(tv_subs.subs != '')"
   ]
  },
  {
   "cell_type": "markdown",
   "metadata": {},
   "source": [
    "### Character names"
   ]
  },
  {
   "cell_type": "markdown",
   "metadata": {},
   "source": [
    "In this section, we will try to find, for each element, the name of the characters that could be mentioned in the subtitles, so that we can remove them when we will work on the subtitles."
   ]
  },
  {
   "cell_type": "code",
   "execution_count": 37,
   "metadata": {},
   "outputs": [
    {
     "name": "stdout",
     "output_type": "stream",
     "text": [
      "+---------+--------+---------+---------------+--------------------+--------------+\n",
      "|   tconst|ordering|   nconst|       category|                 job|    characters|\n",
      "+---------+--------+---------+---------------+--------------------+--------------+\n",
      "|tt0000001|       1|nm1588970|           self|                null|   [\"Herself\"]|\n",
      "|tt0000001|       2|nm0005690|       director|                null|          null|\n",
      "|tt0000001|       3|nm0374658|cinematographer|director of photo...|          null|\n",
      "|tt0000002|       1|nm0721526|       director|                null|          null|\n",
      "|tt0000002|       2|nm1335271|       composer|                null|          null|\n",
      "|tt0000003|       1|nm0721526|       director|                null|          null|\n",
      "|tt0000003|       2|nm5442194|       producer|            producer|          null|\n",
      "|tt0000003|       3|nm1335271|       composer|                null|          null|\n",
      "|tt0000003|       4|nm5442200|         editor|                null|          null|\n",
      "|tt0000004|       1|nm0721526|       director|                null|          null|\n",
      "|tt0000004|       2|nm1335271|       composer|                null|          null|\n",
      "|tt0000005|       1|nm0443482|          actor|                null|[\"Blacksmith\"]|\n",
      "+---------+--------+---------+---------------+--------------------+--------------+\n",
      "only showing top 12 rows\n",
      "\n"
     ]
    }
   ],
   "source": [
    "principals.show(12)"
   ]
  },
  {
   "cell_type": "code",
   "execution_count": 120,
   "metadata": {},
   "outputs": [
    {
     "name": "stdout",
     "output_type": "stream",
     "text": [
      "+---------+----------------+\n",
      "|   tconst|      characters|\n",
      "+---------+----------------+\n",
      "|tt0000005|  [\"Blacksmith\"]|\n",
      "|tt0000005|   [\"Assistant\"]|\n",
      "|tt0000008|[\"Sneezing Man\"]|\n",
      "|tt0000009|[\"Mr. Hamilton\"]|\n",
      "|tt0000011|    [\"Acrobats\"]|\n",
      "+---------+----------------+\n",
      "only showing top 5 rows\n",
      "\n"
     ]
    }
   ],
   "source": [
    "# Select only the character names that correspond to real characters (i.e. category == actor),\n",
    "# and remove all the undefined ones\n",
    "characters = principals.filter(principals.category == 'actor').select('tconst', 'characters').dropna()\n",
    "characters.show(5)"
   ]
  },
  {
   "cell_type": "code",
   "execution_count": 121,
   "metadata": {},
   "outputs": [
    {
     "name": "stdout",
     "output_type": "stream",
     "text": [
      "+---------+--------------------+\n",
      "|   tconst|          characters|\n",
      "+---------+--------------------+\n",
      "|tt0001170|[Frank Morrison, ...|\n",
      "|tt0001664|[The Clergyman, T...|\n",
      "|tt0001732|[Bert Duncan, Nat...|\n",
      "|tt0002253|[The Young Woman'...|\n",
      "|tt0002473|[Bobby, Mary's Fa...|\n",
      "+---------+--------------------+\n",
      "only showing top 5 rows\n",
      "\n"
     ]
    }
   ],
   "source": [
    "# Removes the surrounding square brackets and quotes from the character names\n",
    "def clean_name(name):\n",
    "    return name[2: -2]\n",
    "clean_names = udf(clean_name, StringType())\n",
    "characters = characters.withColumn('characters', clean_names('characters'))\n",
    "\n",
    "# Get the list of character names for each element\n",
    "characters = characters.groupby('tconst').agg(collect_list('characters').alias(\"characters\"))\n",
    "characters.show(5)"
   ]
  },
  {
   "cell_type": "code",
   "execution_count": 159,
   "metadata": {},
   "outputs": [],
   "source": [
    "# Append to each movie/TV series the name of its characters\n",
    "movies_subs = movies_subs.join(characters, \"tconst\")"
   ]
  },
  {
   "cell_type": "code",
   "execution_count": 161,
   "metadata": {},
   "outputs": [],
   "source": [
    "tv_subs = tv_subs.join(characters, 'tconst')"
   ]
  },
  {
   "cell_type": "markdown",
   "metadata": {},
   "source": [
    "### Topic Extraction"
   ]
  },
  {
   "cell_type": "markdown",
   "metadata": {},
   "source": [
    "We will first remove the unnecessary words (stop words, character names, words with length less than 4) and we lematize the remaining one (i.e. we transform the word to its correspinding root word). Once this is done, we decide to only keep the nouns, and we remove as topic the one with the highest number of occurence."
   ]
  },
  {
   "cell_type": "code",
   "execution_count": 129,
   "metadata": {},
   "outputs": [],
   "source": [
    "# Defines the parser to be in the english language\n",
    "parser = English()\n",
    "\n",
    "# Defines a function to tokenize the data into words and transforming them to lower case\n",
    "def tokenize(text):\n",
    "    lda_tokens = []\n",
    "    tokens = parser(text)\n",
    "    for token in tokens:\n",
    "        if token.orth_.isspace():\n",
    "            continue\n",
    "        else:\n",
    "            lda_tokens.append(token.lower_)\n",
    "    return lda_tokens\n",
    "\n",
    "# Lematize the given word\n",
    "def get_lemma(word):\n",
    "    lemma = wn.morphy(word)\n",
    "    if lemma is None:\n",
    "        return word\n",
    "    else:\n",
    "        return lemma\n",
    "\n",
    "# Get the stop word list from nltk and add some more (that appeared a lot in our dataset)\n",
    "en_stop = set(nltk.corpus.stopwords.words('english'))\n",
    "more_stops = ['right', 'really', 'very', 'thing', 'sorry', 'would', 'could','please','hello','going','actually',\n",
    "              'probably','something','nothing','anything','today','wanna','thank','thanks','things','everything','years','year','place','wanna', *en_stop]\n",
    "\n",
    "# Removes the useless tokens and lematize the others\n",
    "def prepare_text_for_lda(text, characters):\n",
    "    # Truncate the text of it is too lonbg to be processed by the parser\n",
    "    if(len(text)>100000):\n",
    "        text = text[:100000]\n",
    "    characters = [w for c in characters for w in tokenize(c)]\n",
    "    tokens = tokenize(text)\n",
    "    tokens = [token for token in tokens if len(token) > 4]\n",
    "    tokens = [token for token in tokens if (token not in more_stops) and (token not in characters)]\n",
    "    tokens = [get_lemma(token) for token in tokens]\n",
    "    return tokens\n",
    "\n",
    "# Return the top word (in terms of frequency)\n",
    "def topWord(text, characters):\n",
    "    tokens = prepare_text_for_lda(text,characters)\n",
    "    tagged = nltk.pos_tag(tokens)\n",
    "    filtered = filter(lambda x: x[1][:2] in ['NN'],tagged)\n",
    "    results = [i for i,n in list(filtered)]\n",
    "    c = Counter(results)\n",
    "    output = sorted(c.items(),key=lambda x: x[1],reverse=True)\n",
    "    output = [i for i, n in output]\n",
    "    return output[:5]"
   ]
  },
  {
   "cell_type": "code",
   "execution_count": 130,
   "metadata": {},
   "outputs": [],
   "source": [
    "udf_topic = udf(topWord, ArrayType(StringType()))\n",
    "movies_subs = movies_subs.withColumn('topic', udf_topic('subs','characters'))"
   ]
  },
  {
   "cell_type": "code",
   "execution_count": 163,
   "metadata": {},
   "outputs": [],
   "source": [
    "tv_subs = tv_subs.withColumn('topic', udf_topic('subs','characters'))"
   ]
  },
  {
   "cell_type": "code",
   "execution_count": 131,
   "metadata": {},
   "outputs": [],
   "source": [
    "#counting the most common topics\n",
    "movie_topics = movies_subs.select(explode('topic').alias('topic'))\n",
    "movie_topics = movie_topics.rdd.map(lambda x: (x,1)).reduceByKey(lambda a,b: a+b).collect()"
   ]
  },
  {
   "cell_type": "code",
   "execution_count": 164,
   "metadata": {},
   "outputs": [],
   "source": [
    "tv_topics = tv_subs.select(explode('topic').alias('topic'))\n",
    "tv_topics = tv_topics.rdd.map(lambda x: (x,1)).reduceByKey(lambda a,b: a+b).collect()"
   ]
  },
  {
   "cell_type": "code",
   "execution_count": 165,
   "metadata": {},
   "outputs": [
    {
     "data": {
      "text/plain": [
       "[(Row(topic='people'), 29),\n",
       " (Row(topic='night'), 17),\n",
       " (Row(topic='school'), 10),\n",
       " (Row(topic='house'), 9),\n",
       " (Row(topic='party'), 9),\n",
       " (Row(topic='money'), 8),\n",
       " (Row(topic='woman'), 8),\n",
       " (Row(topic='police'), 8),\n",
       " (Row(topic='someone'), 7),\n",
       " (Row(topic='family'), 6),\n",
       " (Row(topic='friend'), 5),\n",
       " (Row(topic='honey'), 5),\n",
       " (Row(topic='anyone'), 4),\n",
       " (Row(topic='minutes'), 4),\n",
       " (Row(topic='jesus'), 4),\n",
       " (Row(topic='murder'), 4),\n",
       " (Row(topic='blood'), 4),\n",
       " (Row(topic='phone'), 3),\n",
       " (Row(topic='vampire'), 3),\n",
       " (Row(topic='power'), 3)]"
      ]
     },
     "execution_count": 165,
     "metadata": {},
     "output_type": "execute_result"
    }
   ],
   "source": [
    "tv_topics.sort(key= lambda x: x[1],reverse=True)\n",
    "tv_topics[:20]"
   ]
  },
  {
   "cell_type": "code",
   "execution_count": 133,
   "metadata": {},
   "outputs": [
    {
     "data": {
      "text/plain": [
       "[(Row(topic='people'), 287),\n",
       " (Row(topic='night'), 188),\n",
       " (Row(topic='money'), 141),\n",
       " (Row(topic='woman'), 112),\n",
       " (Row(topic='house'), 84),\n",
       " (Row(topic='brother'), 73),\n",
       " (Row(topic='friend'), 62),\n",
       " (Row(topic='someone'), 57),\n",
       " (Row(topic='father'), 55),\n",
       " (Row(topic='mother'), 55),\n",
       " (Row(topic='course'), 52),\n",
       " (Row(topic='phone'), 51),\n",
       " (Row(topic='family'), 51),\n",
       " (Row(topic='world'), 51),\n",
       " (Row(topic='school'), 46),\n",
       " (Row(topic='music'), 45),\n",
       " (Row(topic='problem'), 38),\n",
       " (Row(topic='morning'), 37),\n",
       " (Row(topic='bitch'), 36),\n",
       " (Row(topic='police'), 34)]"
      ]
     },
     "execution_count": 133,
     "metadata": {},
     "output_type": "execute_result"
    }
   ],
   "source": [
    "movie_topics.sort(key= lambda x: x[1],reverse=True)\n",
    "movie_topics[:20]"
   ]
  },
  {
   "cell_type": "code",
   "execution_count": 167,
   "metadata": {},
   "outputs": [],
   "source": [
    "clean_tv_topics = [(i[0],j) for i,j in tv_topics]"
   ]
  },
  {
   "cell_type": "code",
   "execution_count": 168,
   "metadata": {},
   "outputs": [],
   "source": [
    "clean_movie_topics = [(i[0],j) for i,j in movie_topics]"
   ]
  },
  {
   "cell_type": "code",
   "execution_count": 184,
   "metadata": {},
   "outputs": [
    {
     "data": {
      "image/png": "[encoded data removed]",
      "text/plain": [
       "<Figure size 1080x576 with 1 Axes>"
      ]
     },
     "metadata": {
      "needs_background": "light"
     },
     "output_type": "display_data"
    }
   ],
   "source": [
    "pd.DataFrame(clean_tv_topics[:20],columns=['topic','occurences']).plot.bar(x='topic',y='occurences',figsize=(15,8),title='Most common topics in TV series')\n",
    "plt.savefig('docs/img/tv_topics.png',transparent=True)"
   ]
  },
  {
   "cell_type": "code",
   "execution_count": 183,
   "metadata": {},
   "outputs": [
    {
     "data": {
      "image/png": "[encoded data removed]",
      "text/plain": [
       "<Figure size 1080x576 with 1 Axes>"
      ]
     },
     "metadata": {
      "needs_background": "light"
     },
     "output_type": "display_data"
    }
   ],
   "source": [
    "pd.DataFrame(clean_movie_topics[:20],columns=['topic','occurences']).plot.bar(x='topic',y='occurences',figsize=(15,8),title='Most common topics in movies')\n",
    "plt.savefig('docs/img/movie_topics.png',transparent=True)"
   ]
  },
  {
   "cell_type": "markdown",
   "metadata": {},
   "source": [
    "# Cities"
   ]
  },
  {
   "cell_type": "markdown",
   "metadata": {},
   "source": [
    "We wanted to analyse which were the most common cited cities in the movies/TV series, to better analyse what kind of population it represents."
   ]
  },
  {
   "cell_type": "code",
   "execution_count": 45,
   "metadata": {},
   "outputs": [
    {
     "name": "stderr",
     "output_type": "stream",
     "text": [
      "/Users/michal/anaconda3/lib/python3.7/site-packages/ipykernel_launcher.py:1: DeprecationWarning: Using Nominatim with the default \"geopy/1.18.1\" `user_agent` is strongly discouraged, as it violates Nominatim's ToS https://operations.osmfoundation.org/policies/nominatim/ and may possibly cause 403 and 429 HTTP errors. Please specify a custom `user_agent` with `Nominatim(user_agent=\"my-application\")` or by overriding the default `user_agent`: `geopy.geocoders.options.default_user_agent = \"my-application\"`. In geopy 2.0 this will become an exception.\n",
      "  \"\"\"Entry point for launching an IPython kernel.\n"
     ]
    }
   ],
   "source": [
    "geolocator = Nominatim()\n",
    "def cities_to_coords(cities):\n",
    "    res = []\n",
    "    for i in cities:\n",
    "        l = geolocator.geocode(i)\n",
    "        if l is None:\n",
    "            res.append((None, None))\n",
    "        else:\n",
    "            res.append((l.longitude, l.latitude))\n",
    "        time.sleep(2)\n",
    "    return res"
   ]
  },
  {
   "cell_type": "code",
   "execution_count": 46,
   "metadata": {},
   "outputs": [],
   "source": [
    "def plot_map(coords, data, legend, title):\n",
    "    fig = plt.figure(figsize=(25, 10))\n",
    "    m = Basemap(projection='cyl', resolution='l', llcrnrlat=-90, urcrnrlat=90, llcrnrlon=-180, urcrnrlon=180)\n",
    "    m.shadedrelief(scale=0.1)\n",
    "    lon, lat = zip(*coords)\n",
    "    m.scatter(lon, lat, latlon=True, c=data, s=50, cmap='Reds', alpha=0.9)\n",
    "    plt.title(title)\n",
    "    plt.colorbar(label=legend);"
   ]
  },
  {
   "cell_type": "code",
   "execution_count": 135,
   "metadata": {},
   "outputs": [],
   "source": [
    "def cities(text):\n",
    "    text = [w for w in text.split(' ') if(len(w)>0 and w[0].isupper())]\n",
    "    text = ' '.join(text)\n",
    "    places = GeoText(text)\n",
    "    return list(set(places.cities))\n",
    "\n",
    "udf_cities = udf(cities, ArrayType(StringType()))\n",
    "movies_cities = movies_subs.withColumn('cities', udf_cities('subs'))"
   ]
  },
  {
   "cell_type": "code",
   "execution_count": 136,
   "metadata": {},
   "outputs": [],
   "source": [
    "#counting the most common cities\n",
    "movie_cities = movies_cities.select(explode('cities').alias('city'))\n",
    "movie_cities = movie_cities.rdd.map(lambda x: (x,1)).reduceByKey(lambda a,b: a+b).collect()"
   ]
  },
  {
   "cell_type": "code",
   "execution_count": 166,
   "metadata": {},
   "outputs": [
    {
     "data": {
      "text/plain": [
       "[(Row(city='Of'), 425),\n",
       " (Row(city='Man'), 239),\n",
       " (Row(city='New York'), 229),\n",
       " (Row(city='Nice'), 160),\n",
       " (Row(city='Los Angeles'), 65),\n",
       " (Row(city='York'), 63),\n",
       " (Row(city='David'), 50),\n",
       " (Row(city='San Francisco'), 48),\n",
       " (Row(city='Most'), 45),\n",
       " (Row(city='London'), 43),\n",
       " (Row(city='George'), 39),\n",
       " (Row(city='Paris'), 39),\n",
       " (Row(city='Best'), 38),\n",
       " (Row(city='Police'), 37),\n",
       " (Row(city='Same'), 35),\n",
       " (Row(city='Texas'), 31),\n",
       " (Row(city='Las Vegas'), 29),\n",
       " (Row(city='Mary'), 29),\n",
       " (Row(city='Washington'), 28),\n",
       " (Row(city='Anna'), 25)]"
      ]
     },
     "execution_count": 166,
     "metadata": {},
     "output_type": "execute_result"
    }
   ],
   "source": [
    "movie_cities.sort(key= lambda x: x[1],reverse=True)\n",
    "movie_cities[:20]"
   ]
  },
  {
   "cell_type": "code",
   "execution_count": 139,
   "metadata": {},
   "outputs": [],
   "source": [
    "import pickle \n",
    "pickle.dump(movie_cities, open(\"movie_cities.p\",\"wb\"))"
   ]
  },
  {
   "cell_type": "markdown",
   "metadata": {},
   "source": [
    "# Cost and box-office analysis"
   ]
  },
  {
   "cell_type": "markdown",
   "metadata": {},
   "source": [
    "In order to show the importance of both the movie industry to introduce our data story, we wanted to highlight the evolution of production costs and yearly box-office, however, these data, which are present on IMDb, required us to register for a professional and paying account, thus we found a summary table on [The Numbers](https://www.the-numbers.com/movies/#tab=year), which even though it doesn't have as much details as the IMDb database, still shows pretty well the exponential evolution over the last century."
   ]
  },
  {
   "cell_type": "code",
   "execution_count": 47,
   "metadata": {},
   "outputs": [
    {
     "data": {
      "text/html": [
       "<div>\n",
       "<style scoped>\n",
       "    .dataframe tbody tr th:only-of-type {\n",
       "        vertical-align: middle;\n",
       "    }\n",
       "\n",
       "    .dataframe tbody tr th {\n",
       "        vertical-align: top;\n",
       "    }\n",
       "\n",
       "    .dataframe thead th {\n",
       "        text-align: right;\n",
       "    }\n",
       "</style>\n",
       "<table border=\"1\" class=\"dataframe\">\n",
       "  <thead>\n",
       "    <tr style=\"text-align: right;\">\n",
       "      <th></th>\n",
       "      <th>Year</th>\n",
       "      <th>Total Movies</th>\n",
       "      <th>Average Production Budget</th>\n",
       "      <th>Combined Worldwide Box Office</th>\n",
       "      <th>No. 1 Movie</th>\n",
       "    </tr>\n",
       "  </thead>\n",
       "  <tbody>\n",
       "    <tr>\n",
       "      <th>0</th>\n",
       "      <td>TBD</td>\n",
       "      <td>1,782</td>\n",
       "      <td>NaN</td>\n",
       "      <td>NaN</td>\n",
       "      <td>NaN</td>\n",
       "    </tr>\n",
       "    <tr>\n",
       "      <th>1</th>\n",
       "      <td>2025</td>\n",
       "      <td>1</td>\n",
       "      <td>NaN</td>\n",
       "      <td>NaN</td>\n",
       "      <td>NaN</td>\n",
       "    </tr>\n",
       "    <tr>\n",
       "      <th>2</th>\n",
       "      <td>2024</td>\n",
       "      <td>1</td>\n",
       "      <td>NaN</td>\n",
       "      <td>NaN</td>\n",
       "      <td>NaN</td>\n",
       "    </tr>\n",
       "    <tr>\n",
       "      <th>3</th>\n",
       "      <td>2023</td>\n",
       "      <td>2</td>\n",
       "      <td>NaN</td>\n",
       "      <td>NaN</td>\n",
       "      <td>NaN</td>\n",
       "    </tr>\n",
       "    <tr>\n",
       "      <th>4</th>\n",
       "      <td>2022</td>\n",
       "      <td>16</td>\n",
       "      <td>NaN</td>\n",
       "      <td>NaN</td>\n",
       "      <td>NaN</td>\n",
       "    </tr>\n",
       "    <tr>\n",
       "      <th>5</th>\n",
       "      <td>2021</td>\n",
       "      <td>28</td>\n",
       "      <td>NaN</td>\n",
       "      <td>NaN</td>\n",
       "      <td>NaN</td>\n",
       "    </tr>\n",
       "    <tr>\n",
       "      <th>6</th>\n",
       "      <td>2020</td>\n",
       "      <td>87</td>\n",
       "      <td>$112,500,000</td>\n",
       "      <td>NaN</td>\n",
       "      <td>NaN</td>\n",
       "    </tr>\n",
       "    <tr>\n",
       "      <th>7</th>\n",
       "      <td>2019</td>\n",
       "      <td>371</td>\n",
       "      <td>$36,268,750</td>\n",
       "      <td>NaN</td>\n",
       "      <td>NaN</td>\n",
       "    </tr>\n",
       "    <tr>\n",
       "      <th>8</th>\n",
       "      <td>2018</td>\n",
       "      <td>4,391</td>\n",
       "      <td>$57,176,887</td>\n",
       "      <td>$32,270,167,911</td>\n",
       "      <td>Avengers: Infinity War</td>\n",
       "    </tr>\n",
       "    <tr>\n",
       "      <th>9</th>\n",
       "      <td>2017</td>\n",
       "      <td>3,957</td>\n",
       "      <td>$54,517,823</td>\n",
       "      <td>$37,661,783,041</td>\n",
       "      <td>Star Wars Ep. VIII: The Last Jedi</td>\n",
       "    </tr>\n",
       "  </tbody>\n",
       "</table>\n",
       "</div>"
      ],
      "text/plain": [
       "   Year Total Movies Average Production Budget Combined Worldwide Box Office  \\\n",
       "0   TBD        1,782                       NaN                           NaN   \n",
       "1  2025            1                       NaN                           NaN   \n",
       "2  2024            1                       NaN                           NaN   \n",
       "3  2023            2                       NaN                           NaN   \n",
       "4  2022           16                       NaN                           NaN   \n",
       "5  2021           28                       NaN                           NaN   \n",
       "6  2020           87              $112,500,000                           NaN   \n",
       "7  2019          371               $36,268,750                           NaN   \n",
       "8  2018        4,391               $57,176,887               $32,270,167,911   \n",
       "9  2017        3,957               $54,517,823               $37,661,783,041   \n",
       "\n",
       "                         No. 1 Movie  \n",
       "0                                NaN  \n",
       "1                                NaN  \n",
       "2                                NaN  \n",
       "3                                NaN  \n",
       "4                                NaN  \n",
       "5                                NaN  \n",
       "6                                NaN  \n",
       "7                                NaN  \n",
       "8             Avengers: Infinity War  \n",
       "9  Star Wars Ep. VIII: The Last Jedi  "
      ]
     },
     "execution_count": 47,
     "metadata": {},
     "output_type": "execute_result"
    }
   ],
   "source": [
    "box_office = pd.read_csv(\"data/box_office.csv\", delimiter=\";\")\n",
    "box_office.head(10)"
   ]
  },
  {
   "cell_type": "code",
   "execution_count": 48,
   "metadata": {},
   "outputs": [
    {
     "data": {
      "text/html": [
       "<div>\n",
       "<style scoped>\n",
       "    .dataframe tbody tr th:only-of-type {\n",
       "        vertical-align: middle;\n",
       "    }\n",
       "\n",
       "    .dataframe tbody tr th {\n",
       "        vertical-align: top;\n",
       "    }\n",
       "\n",
       "    .dataframe thead th {\n",
       "        text-align: right;\n",
       "    }\n",
       "</style>\n",
       "<table border=\"1\" class=\"dataframe\">\n",
       "  <thead>\n",
       "    <tr style=\"text-align: right;\">\n",
       "      <th></th>\n",
       "      <th>Year</th>\n",
       "      <th>Total Movies</th>\n",
       "      <th>Average Production Budget</th>\n",
       "      <th>Combined Worldwide Box Office</th>\n",
       "      <th>No. 1 Movie</th>\n",
       "    </tr>\n",
       "  </thead>\n",
       "  <tbody>\n",
       "    <tr>\n",
       "      <th>8</th>\n",
       "      <td>2018</td>\n",
       "      <td>4,391</td>\n",
       "      <td>$57,176,887</td>\n",
       "      <td>$32,270,167,911</td>\n",
       "      <td>Avengers: Infinity War</td>\n",
       "    </tr>\n",
       "    <tr>\n",
       "      <th>9</th>\n",
       "      <td>2017</td>\n",
       "      <td>3,957</td>\n",
       "      <td>$54,517,823</td>\n",
       "      <td>$37,661,783,041</td>\n",
       "      <td>Star Wars Ep. VIII: The Last Jedi</td>\n",
       "    </tr>\n",
       "    <tr>\n",
       "      <th>10</th>\n",
       "      <td>2016</td>\n",
       "      <td>3,663</td>\n",
       "      <td>$42,323,318</td>\n",
       "      <td>$36,759,537,509</td>\n",
       "      <td>Captain America: Civil War</td>\n",
       "    </tr>\n",
       "    <tr>\n",
       "      <th>11</th>\n",
       "      <td>2015</td>\n",
       "      <td>3,126</td>\n",
       "      <td>$26,808,427</td>\n",
       "      <td>$35,988,293,278</td>\n",
       "      <td>Star Wars Ep. VII: The Force Awakens</td>\n",
       "    </tr>\n",
       "    <tr>\n",
       "      <th>12</th>\n",
       "      <td>2014</td>\n",
       "      <td>1,632</td>\n",
       "      <td>$30,252,500</td>\n",
       "      <td>$29,907,642,297</td>\n",
       "      <td>Transformers: Age of Extinction</td>\n",
       "    </tr>\n",
       "  </tbody>\n",
       "</table>\n",
       "</div>"
      ],
      "text/plain": [
       "    Year Total Movies Average Production Budget Combined Worldwide Box Office  \\\n",
       "8   2018        4,391               $57,176,887               $32,270,167,911   \n",
       "9   2017        3,957               $54,517,823               $37,661,783,041   \n",
       "10  2016        3,663               $42,323,318               $36,759,537,509   \n",
       "11  2015        3,126               $26,808,427               $35,988,293,278   \n",
       "12  2014        1,632               $30,252,500               $29,907,642,297   \n",
       "\n",
       "                             No. 1 Movie  \n",
       "8                 Avengers: Infinity War  \n",
       "9      Star Wars Ep. VIII: The Last Jedi  \n",
       "10            Captain America: Civil War  \n",
       "11  Star Wars Ep. VII: The Force Awakens  \n",
       "12       Transformers: Age of Extinction  "
      ]
     },
     "execution_count": 48,
     "metadata": {},
     "output_type": "execute_result"
    }
   ],
   "source": [
    "# Removes the TBD row, as well as the years that have not been reached yets (years bigger than 2018)\n",
    "box_office.drop(range(0, 8), axis=0, inplace=True)\n",
    "\n",
    "# Casts the year to integers\n",
    "box_office[\"Year\"] = box_office[\"Year\"].astype(int)\n",
    "\n",
    "# Fills all the missing number with value 0\n",
    "box_office.fillna(\"0\",inplace=True)\n",
    "\n",
    "# Removes the year that have not been reached yet\n",
    "box_office.head(5)"
   ]
  },
  {
   "cell_type": "code",
   "execution_count": 49,
   "metadata": {},
   "outputs": [
    {
     "data": {
      "text/html": [
       "<div>\n",
       "<style scoped>\n",
       "    .dataframe tbody tr th:only-of-type {\n",
       "        vertical-align: middle;\n",
       "    }\n",
       "\n",
       "    .dataframe tbody tr th {\n",
       "        vertical-align: top;\n",
       "    }\n",
       "\n",
       "    .dataframe thead th {\n",
       "        text-align: right;\n",
       "    }\n",
       "</style>\n",
       "<table border=\"1\" class=\"dataframe\">\n",
       "  <thead>\n",
       "    <tr style=\"text-align: right;\">\n",
       "      <th></th>\n",
       "      <th>Year</th>\n",
       "      <th>Total Movies</th>\n",
       "      <th>Average Production Budget</th>\n",
       "      <th>Combined Worldwide Box Office</th>\n",
       "      <th>No. 1 Movie</th>\n",
       "      <th>Yearly Budget</th>\n",
       "    </tr>\n",
       "  </thead>\n",
       "  <tbody>\n",
       "    <tr>\n",
       "      <th>8</th>\n",
       "      <td>2018</td>\n",
       "      <td>4391</td>\n",
       "      <td>57.176887</td>\n",
       "      <td>32.270168</td>\n",
       "      <td>Avengers: Infinity War</td>\n",
       "      <td>251.063711</td>\n",
       "    </tr>\n",
       "    <tr>\n",
       "      <th>9</th>\n",
       "      <td>2017</td>\n",
       "      <td>3957</td>\n",
       "      <td>54.517823</td>\n",
       "      <td>37.661783</td>\n",
       "      <td>Star Wars Ep. VIII: The Last Jedi</td>\n",
       "      <td>215.727026</td>\n",
       "    </tr>\n",
       "    <tr>\n",
       "      <th>10</th>\n",
       "      <td>2016</td>\n",
       "      <td>3663</td>\n",
       "      <td>42.323318</td>\n",
       "      <td>36.759538</td>\n",
       "      <td>Captain America: Civil War</td>\n",
       "      <td>155.030314</td>\n",
       "    </tr>\n",
       "    <tr>\n",
       "      <th>11</th>\n",
       "      <td>2015</td>\n",
       "      <td>3126</td>\n",
       "      <td>26.808427</td>\n",
       "      <td>35.988293</td>\n",
       "      <td>Star Wars Ep. VII: The Force Awakens</td>\n",
       "      <td>83.803143</td>\n",
       "    </tr>\n",
       "    <tr>\n",
       "      <th>12</th>\n",
       "      <td>2014</td>\n",
       "      <td>1632</td>\n",
       "      <td>30.252500</td>\n",
       "      <td>29.907642</td>\n",
       "      <td>Transformers: Age of Extinction</td>\n",
       "      <td>49.372080</td>\n",
       "    </tr>\n",
       "  </tbody>\n",
       "</table>\n",
       "</div>"
      ],
      "text/plain": [
       "    Year  Total Movies  Average Production Budget  \\\n",
       "8   2018          4391                  57.176887   \n",
       "9   2017          3957                  54.517823   \n",
       "10  2016          3663                  42.323318   \n",
       "11  2015          3126                  26.808427   \n",
       "12  2014          1632                  30.252500   \n",
       "\n",
       "    Combined Worldwide Box Office                           No. 1 Movie  \\\n",
       "8                       32.270168                Avengers: Infinity War   \n",
       "9                       37.661783     Star Wars Ep. VIII: The Last Jedi   \n",
       "10                      36.759538            Captain America: Civil War   \n",
       "11                      35.988293  Star Wars Ep. VII: The Force Awakens   \n",
       "12                      29.907642       Transformers: Age of Extinction   \n",
       "\n",
       "    Yearly Budget  \n",
       "8      251.063711  \n",
       "9      215.727026  \n",
       "10     155.030314  \n",
       "11      83.803143  \n",
       "12      49.372080  "
      ]
     },
     "execution_count": 49,
     "metadata": {},
     "output_type": "execute_result"
    }
   ],
   "source": [
    "box_office[\"Average Production Budget\"] = box_office[\"Average Production Budget\"].str.replace(\"[$,]\", '').astype(\n",
    "    float) / 10 ** 6\n",
    "box_office[\"Combined Worldwide Box Office\"] = box_office[\"Combined Worldwide Box Office\"].str.replace(\n",
    "    \"[$,]\",'').astype(int) / 10 ** 9\n",
    "box_office[\"Total Movies\"] = box_office[\"Total Movies\"].str.replace(\",\",'').astype(int)\n",
    "box_office[\"Yearly Budget\"] = box_office[\"Average Production Budget\"] * box_office[\"Total Movies\"] / 10**3\n",
    "box_office.head(5)"
   ]
  },
  {
   "cell_type": "code",
   "execution_count": 50,
   "metadata": {},
   "outputs": [],
   "source": [
    "years = box_office[\"Year\"].values\n",
    "average_budget = box_office[\"Average Production Budget\"].values\n",
    "movies = box_office[\"Total Movies\"].values\n",
    "bo = box_office[\"Combined Worldwide Box Office\"].values\n",
    "budget = box_office[\"Yearly Budget\"].values"
   ]
  },
  {
   "cell_type": "code",
   "execution_count": 51,
   "metadata": {},
   "outputs": [
    {
     "name": "stdout",
     "output_type": "stream",
     "text": [
      "Total box-office over the years: 637.2540868280003 billion $\n"
     ]
    },
    {
     "data": {
      "image/png": "[encoded data removed]",
      "text/plain": [
       "<Figure size 1080x576 with 1 Axes>"
      ]
     },
     "metadata": {
      "needs_background": "light"
     },
     "output_type": "display_data"
    }
   ],
   "source": [
    "plt.figure(figsize=(15, 8))\n",
    "plt.hist(years, weights=bo, bins=(years.max() - years.min()+1))\n",
    "plt.title(\"Evolution of the yearly world-wide box-office (in billion $)\")\n",
    "plt.savefig('docs/img/box_office.png', transparent=True)\n",
    "print(\"Total box-office over the years: {} billion $\".format(bo.sum()))"
   ]
  },
  {
   "cell_type": "code",
   "execution_count": 52,
   "metadata": {},
   "outputs": [
    {
     "name": "stdout",
     "output_type": "stream",
     "text": [
      "Total budget spent over the years: 1332.003177054 billion $\n",
      "Production cost in 2018 : 251.06371081700001\n",
      "Production cost in 1998 : 14.494845939000001\n"
     ]
    },
    {
     "data": {
      "image/png": "[encoded data removed]",
      "text/plain": [
       "<Figure size 1080x576 with 1 Axes>"
      ]
     },
     "metadata": {
      "needs_background": "light"
     },
     "output_type": "display_data"
    }
   ],
   "source": [
    "plt.figure(figsize=(15, 8))\n",
    "plt.hist(years, weights=budget, bins=(years.max() - years.min()+1))\n",
    "plt.title(\"Evolution of the yearly production costs (in billion $)\")\n",
    "plt.savefig('docs/img/production_costs.png', transparent=True)\n",
    "print(\"Total budget spent over the years: {} billion $\".format(budget.sum()))\n",
    "print(\"Production cost in 2018 : {}\".format(budget[0]))\n",
    "print(\"Production cost in 1998 : {}\".format(budget[19]))"
   ]
  }
 ],
 "metadata": {
  "kernelspec": {
   "display_name": "Python 3",
   "language": "python",
   "name": "python3"
  },
  "language_info": {
   "codemirror_mode": {
    "name": "ipython",
    "version": 3
   },
   "file_extension": ".py",
   "mimetype": "text/x-python",
   "name": "python",
   "nbconvert_exporter": "python",
   "pygments_lexer": "ipython3",
   "version": "3.7.0"
  }
 },
 "nbformat": 4,
 "nbformat_minor": 2
}
