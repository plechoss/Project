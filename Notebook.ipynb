{
 "cells": [
  {
   "cell_type": "code",
   "execution_count": 1,
   "metadata": {},
   "outputs": [],
   "source": [
    "import re\n",
    "import pandas as pd\n",
    "import numpy as np\n",
    "import matplotlib\n",
    "import matplotlib.pyplot as plt\n",
    "from os import environ\n",
    "environ['PYSPARK_SUBMIT_ARGS'] = '--packages com.databricks:spark-xml_2.10:0.4.1 pyspark-shell'\n",
    "\n",
    "%matplotlib inline\n",
    "\n",
    "import findspark\n",
    "findspark.init()\n",
    "\n",
    "from pyspark.sql import *\n",
    "from pyspark.sql.functions import *\n",
    "from pyspark.sql.functions import min\n",
    "from pyspark.sql.functions import udf\n",
    "from pyspark.sql.types import StringType\n",
    "from pyspark.sql import SparkSession\n",
    "from pyspark import SparkContext\n",
    "import string\n",
    "import nltk\n",
    "from nltk.corpus import stopwords \n",
    "\n",
    "spark = SparkSession.builder.getOrCreate()\n",
    "sc = spark.sparkContext\n",
    "\n",
    "from pyspark.sql import SQLContext\n",
    "sqlContext = SQLContext(sc)\n",
    "\n",
    "DATA_DIR = 'data/'"
   ]
  },
  {
   "cell_type": "markdown",
   "metadata": {},
   "source": [
    "# IMDB Data "
   ]
  },
  {
   "cell_type": "markdown",
   "metadata": {},
   "source": [
    "We'll be using four of the IMDB datasets: \n",
    "1. basics - for various metadata about the movie/tv series\n",
    "* episode - to match the subtitles tv series episodes with the overall series in the database\n",
    "* ratings - for the ratings and views info\n",
    "\n",
    "All of them are available for dowload and described here: [IMDb](https://www.imdb.com/interfaces/)."
   ]
  },
  {
   "cell_type": "code",
   "execution_count": 2,
   "metadata": {},
   "outputs": [],
   "source": [
    "# Loads the IMDb datasets\n",
    "basics = spark.read.csv(DATA_DIR + 'title.basics.tsv.gz', sep='\\t', header=True, nanValue=\"\\\\N\")\n",
    "episode = spark.read.csv(DATA_DIR + 'title.episode.tsv.gz', sep='\\t', header=True)\n",
    "ratings = spark.read.csv(DATA_DIR + 'title.ratings.tsv.gz', sep='\\t', header=True)"
   ]
  },
  {
   "cell_type": "code",
   "execution_count": 3,
   "metadata": {},
   "outputs": [
    {
     "name": "stdout",
     "output_type": "stream",
     "text": [
      "root\n",
      " |-- tconst: string (nullable = true)\n",
      " |-- titleType: string (nullable = true)\n",
      " |-- primaryTitle: string (nullable = true)\n",
      " |-- originalTitle: string (nullable = true)\n",
      " |-- isAdult: string (nullable = true)\n",
      " |-- startYear: string (nullable = true)\n",
      " |-- endYear: string (nullable = true)\n",
      " |-- runtimeMinutes: string (nullable = true)\n",
      " |-- genres: string (nullable = true)\n",
      "\n"
     ]
    }
   ],
   "source": [
    "basics.printSchema()"
   ]
  },
  {
   "cell_type": "code",
   "execution_count": 4,
   "metadata": {},
   "outputs": [
    {
     "name": "stdout",
     "output_type": "stream",
     "text": [
      "root\n",
      " |-- tconst: string (nullable = true)\n",
      " |-- parentTconst: string (nullable = true)\n",
      " |-- seasonNumber: string (nullable = true)\n",
      " |-- episodeNumber: string (nullable = true)\n",
      "\n"
     ]
    }
   ],
   "source": [
    "episode.printSchema()"
   ]
  },
  {
   "cell_type": "code",
   "execution_count": 5,
   "metadata": {},
   "outputs": [
    {
     "name": "stdout",
     "output_type": "stream",
     "text": [
      "root\n",
      " |-- tconst: string (nullable = true)\n",
      " |-- averageRating: string (nullable = true)\n",
      " |-- numVotes: string (nullable = true)\n",
      "\n"
     ]
    }
   ],
   "source": [
    "ratings.printSchema()"
   ]
  },
  {
   "cell_type": "markdown",
   "metadata": {},
   "source": [
    "We only need the following fields from every table:\n",
    "* basics:\n",
    "    * all fields withouth isAdult, originalTitle\n",
    "* episode:\n",
    "    * all fields\n",
    "* ratings:\n",
    "    * all fields"
   ]
  },
  {
   "cell_type": "code",
   "execution_count": 6,
   "metadata": {},
   "outputs": [
    {
     "name": "stdout",
     "output_type": "stream",
     "text": [
      "+------------+\n",
      "|   titleType|\n",
      "+------------+\n",
      "|    tvSeries|\n",
      "|tvMiniSeries|\n",
      "|     tvMovie|\n",
      "|   tvEpisode|\n",
      "|       movie|\n",
      "|   tvSpecial|\n",
      "|       video|\n",
      "|   videoGame|\n",
      "|     tvShort|\n",
      "|       short|\n",
      "+------------+\n",
      "\n"
     ]
    }
   ],
   "source": [
    "basics.select('titleType').distinct().show()"
   ]
  },
  {
   "cell_type": "markdown",
   "metadata": {},
   "source": [
    "We're not interested in the `videoGame`, `video`, `tvShort` or `short` types, thus we filter them out."
   ]
  },
  {
   "cell_type": "code",
   "execution_count": 7,
   "metadata": {},
   "outputs": [],
   "source": [
    "# Removes the originalTitle and isAdult columns\n",
    "basics = basics.drop('isAdult', 'originalTitle').filter(col('titleType') != 'short').filter(\n",
    "    col('titleType') != 'videoGame').filter(col('titleType') != 'tvShort').filter(col('titleType') != 'videos')\n",
    "\n",
    "# Removes episodes with empty series or episode numbers\n",
    "episode = episode.filter(col('seasonNumber') != '\\\\N').filter(col('episodeNumber') != '\\\\N').withColumnRenamed(\"tconst\", \"episodeTconst\")"
   ]
  },
  {
   "cell_type": "code",
   "execution_count": 8,
   "metadata": {},
   "outputs": [
    {
     "name": "stdout",
     "output_type": "stream",
     "text": [
      "+---------+---------+------------+---------+-------+--------------+--------------------+\n",
      "|   tconst|titleType|primaryTitle|startYear|endYear|runtimeMinutes|              genres|\n",
      "+---------+---------+------------+---------+-------+--------------+--------------------+\n",
      "|tt0098936| tvSeries|  Twin Peaks|     1990|   1991|            47| Crime,Drama,Mystery|\n",
      "|tt0186641|    video|  Twin Peaks|     1993|     \\N|            \\N|               Adult|\n",
      "|tt2395641|tvEpisode|  Twin Peaks|     2006|     \\N|            \\N|         Documentary|\n",
      "|tt2650780|tvEpisode|  Twin Peaks|     2013|     \\N|            44|Adventure,Reality-TV|\n",
      "|tt3225942|tvEpisode|  Twin Peaks|     2013|     \\N|            43|          Reality-TV|\n",
      "+---------+---------+------------+---------+-------+--------------+--------------------+\n",
      "only showing top 5 rows\n",
      "\n"
     ]
    }
   ],
   "source": [
    "# Note that we leave the endYear column because it is valid for the TV Series, e.x.\n",
    "basics.filter(col('primaryTitle') == 'Twin Peaks').show(5)"
   ]
  },
  {
   "cell_type": "code",
   "execution_count": 9,
   "metadata": {},
   "outputs": [
    {
     "name": "stdout",
     "output_type": "stream",
     "text": [
      "+---------+---------+--------------------+---------+-------+--------------+--------------------+\n",
      "|   tconst|titleType|        primaryTitle|startYear|endYear|runtimeMinutes|              genres|\n",
      "+---------+---------+--------------------+---------+-------+--------------+--------------------+\n",
      "|tt0000009|    movie|          Miss Jerry|     1894|     \\N|            45|             Romance|\n",
      "|tt0000147|    movie|The Corbett-Fitzs...|     1897|     \\N|            20|Documentary,News,...|\n",
      "|tt0000335|    movie|Soldiers of the C...|     1900|     \\N|            \\N|     Biography,Drama|\n",
      "|tt0000502|    movie|            Bohemios|     1905|     \\N|           100|                  \\N|\n",
      "|tt0000574|    movie|The Story of the ...|     1906|     \\N|            70|Biography,Crime,D...|\n",
      "+---------+---------+--------------------+---------+-------+--------------+--------------------+\n",
      "only showing top 5 rows\n",
      "\n"
     ]
    }
   ],
   "source": [
    "basics.show(5)"
   ]
  },
  {
   "cell_type": "code",
   "execution_count": 10,
   "metadata": {},
   "outputs": [
    {
     "name": "stdout",
     "output_type": "stream",
     "text": [
      "+-------------+------------+------------+-------------+\n",
      "|episodeTconst|parentTconst|seasonNumber|episodeNumber|\n",
      "+-------------+------------+------------+-------------+\n",
      "|    tt0041951|   tt0041038|           1|            9|\n",
      "|    tt0042816|   tt0989125|           1|           17|\n",
      "|    tt0043426|   tt0040051|           3|           42|\n",
      "|    tt0043631|   tt0989125|           2|           16|\n",
      "|    tt0043693|   tt0989125|           2|            8|\n",
      "+-------------+------------+------------+-------------+\n",
      "only showing top 5 rows\n",
      "\n"
     ]
    }
   ],
   "source": [
    "episode.show(5)"
   ]
  },
  {
   "cell_type": "code",
   "execution_count": 11,
   "metadata": {},
   "outputs": [
    {
     "name": "stdout",
     "output_type": "stream",
     "text": [
      "+---------+-------------+--------+\n",
      "|   tconst|averageRating|numVotes|\n",
      "+---------+-------------+--------+\n",
      "|tt0000001|          5.8|    1445|\n",
      "|tt0000002|          6.4|     174|\n",
      "|tt0000003|          6.6|    1042|\n",
      "|tt0000004|          6.4|     104|\n",
      "|tt0000005|          6.2|    1742|\n",
      "+---------+-------------+--------+\n",
      "only showing top 5 rows\n",
      "\n"
     ]
    }
   ],
   "source": [
    "ratings.show(5)"
   ]
  },
  {
   "cell_type": "markdown",
   "metadata": {},
   "source": [
    "We separate the movies and TV series, as they need to be processed differently."
   ]
  },
  {
   "cell_type": "code",
   "execution_count": 12,
   "metadata": {},
   "outputs": [
    {
     "name": "stdout",
     "output_type": "stream",
     "text": [
      "Number of movies in the IMDb database: 505391\n"
     ]
    },
    {
     "data": {
      "image/png": "[encoded data removed]",
      "text/plain": [
       "<Figure size 1080x576 with 1 Axes>"
      ]
     },
     "metadata": {
      "needs_background": "light"
     },
     "output_type": "display_data"
    }
   ],
   "source": [
    "movies = basics.filter(basics.titleType == \"movie\")\n",
    "\n",
    "movies_years = movies.select(\"startYear\").toPandas()[\"startYear\"].dropna()\n",
    "print(\"Number of movies in the IMDb database: {}\".format(movies.count()))\n",
    "\n",
    "# We cast the defined years to int\n",
    "movies_years = movies_years[movies_years != \"\\\\N\"].astype(int)\n",
    "\n",
    "# We plot the histogram only for already released movies (a.k.a. movies that were released in or before 2018)\n",
    "movies_years = movies_years[movies_years <= 2018]\n",
    "movies_years.plot(kind=\"hist\", bins=movies_years.max() - movies_years.min() + 1, figsize=(15,8),\n",
    "                  title=\"Evolution of the number of movies produced each year\");\n",
    "plt.savefig('docs/img/movies_evolution.png', transparent=True)"
   ]
  },
  {
   "cell_type": "code",
   "execution_count": 13,
   "metadata": {},
   "outputs": [
    {
     "name": "stdout",
     "output_type": "stream",
     "text": [
      "Number of TV series in the IMDb database: 156890\n"
     ]
    },
    {
     "data": {
      "image/png": "[encoded data removed]",
      "text/plain": [
       "<Figure size 1080x576 with 1 Axes>"
      ]
     },
     "metadata": {
      "needs_background": "light"
     },
     "output_type": "display_data"
    }
   ],
   "source": [
    "tvseries = basics.filter(((basics.titleType == \"tvSeries\") | (basics.titleType == \"miniTvSeries\")))\n",
    "tvseries_years = tvseries.toPandas()[\"startYear\"].dropna()\n",
    "print(\"Number of TV series in the IMDb database: {}\".format(tvseries.count()))\n",
    "\n",
    "# We cast the defined years to int\n",
    "tvseries_years = tvseries_years[tvseries_years != \"\\\\N\"].astype(int)\n",
    "\n",
    "# We plot the histogram only for already released tv series (a.k.a. tv series that were released in or before 2018)\n",
    "tvseries_years = tvseries_years[tvseries_years <= 2018]\n",
    "tvseries_years.plot(kind=\"hist\", bins=tvseries_years.max() - tvseries_years.min() + 1, figsize=(15,8),\n",
    "                  title=\"Evolution of the number of TV series produced each year\");\n",
    "plt.savefig('docs/img/tv_series_evolution.png', transparent=True)"
   ]
  },
  {
   "cell_type": "code",
   "execution_count": 14,
   "metadata": {},
   "outputs": [],
   "source": [
    "movies = movies.join(ratings, \"tconst\")\n",
    "\n",
    "# Due to the way the structure of the OpenSubtitles dataset (require us to load one subtitle file per episode),\n",
    "# we will only extract the topics on the first episode of each tv series (the pilot)\n",
    "pilots = episode.filter(episode.seasonNumber == 1).filter(episode.episodeNumber == 1)\n",
    "tvseries = tvseries.join(ratings, \"tconst\")\n",
    "tvseries = tvseries.join(pilots, tvseries.tconst == pilots.parentTconst)"
   ]
  },
  {
   "cell_type": "code",
   "execution_count": 15,
   "metadata": {},
   "outputs": [
    {
     "name": "stdout",
     "output_type": "stream",
     "text": [
      "Number of relevant movies: 11440\n",
      "Number of relevant TV series: 1524\n"
     ]
    }
   ],
   "source": [
    "movies_col = [\"tconst\", \"startYear\", \"genres\", \"averageRating\", \"numVotes\"]\n",
    "tvseries_col = [\"tconst\", \"startYear\", \"genres\", \"averageRating\", \"numVotes\", \"episodeTconst\"]\n",
    "# According to IMDb database, ratings are only relevant when there are more than 5000 votes.\n",
    "movies_relevant = movies.filter(movies.numVotes > 5000).select(*movies_col)\n",
    "print(\"Number of relevant movies: {}\".format(movies_relevant.count()))\n",
    "tvseries_relevant = tvseries.filter(tvseries.numVotes > 5000).select(*tvseries_col)\n",
    "print(\"Number of relevant TV series: {}\".format(tvseries_relevant.count()))"
   ]
  },
  {
   "cell_type": "code",
   "execution_count": 16,
   "metadata": {},
   "outputs": [],
   "source": [
    "movies_relevant.write.parquet(\"movies.parquet\", mode=\"overwrite\")\n",
    "tvseries_relevant.write.parquet(\"tvseries.parquet\", mode=\"overwrite\")"
   ]
  },
  {
   "cell_type": "markdown",
   "metadata": {},
   "source": [
    "# Subtitle data"
   ]
  },
  {
   "cell_type": "markdown",
   "metadata": {},
   "source": [
    "## Extracting the subtitles data"
   ]
  },
  {
   "cell_type": "markdown",
   "metadata": {},
   "source": [
    "**This part of the notebook is reserved for the subtitle data collection. Considering the data set is 31 GB long, the code below was ran on the cluster (and thus cannot be ran on this notebook).**"
   ]
  },
  {
   "cell_type": "code",
   "execution_count": 17,
   "metadata": {},
   "outputs": [],
   "source": [
    "# TODO"
   ]
  },
  {
   "cell_type": "markdown",
   "metadata": {},
   "source": [
    "## Processing"
   ]
  },
  {
   "cell_type": "code",
   "execution_count": 18,
   "metadata": {},
   "outputs": [],
   "source": [
    "# TODO"
   ]
  },
  {
   "cell_type": "markdown",
   "metadata": {},
   "source": [
    "# Cost and gross analysis"
   ]
  },
  {
   "cell_type": "markdown",
   "metadata": {},
   "source": [
    "In order to show the importance of both the movie industry to introduce our data story, we wanted to highlight the evolution of production costs and yearly box-office, however, these data, which are present on IMDb, required us to register for a professional and paying account, thus we found a summary table on [The Numbers](https://www.the-numbers.com/movies/#tab=year), which even though it doesn't have as much details as the IMDb database, still shows pretty well the exponential evolution over the last century."
   ]
  },
  {
   "cell_type": "code",
   "execution_count": 19,
   "metadata": {},
   "outputs": [
    {
     "data": {
      "text/html": [
       "<div>\n",
       "<style scoped>\n",
       "    .dataframe tbody tr th:only-of-type {\n",
       "        vertical-align: middle;\n",
       "    }\n",
       "\n",
       "    .dataframe tbody tr th {\n",
       "        vertical-align: top;\n",
       "    }\n",
       "\n",
       "    .dataframe thead th {\n",
       "        text-align: right;\n",
       "    }\n",
       "</style>\n",
       "<table border=\"1\" class=\"dataframe\">\n",
       "  <thead>\n",
       "    <tr style=\"text-align: right;\">\n",
       "      <th></th>\n",
       "      <th>Year</th>\n",
       "      <th>Total Movies</th>\n",
       "      <th>Average Production Budget</th>\n",
       "      <th>Combined Worldwide Box Office</th>\n",
       "      <th>No. 1 Movie</th>\n",
       "    </tr>\n",
       "  </thead>\n",
       "  <tbody>\n",
       "    <tr>\n",
       "      <th>0</th>\n",
       "      <td>TBD</td>\n",
       "      <td>1,782</td>\n",
       "      <td>NaN</td>\n",
       "      <td>NaN</td>\n",
       "      <td>NaN</td>\n",
       "    </tr>\n",
       "    <tr>\n",
       "      <th>1</th>\n",
       "      <td>2025</td>\n",
       "      <td>1</td>\n",
       "      <td>NaN</td>\n",
       "      <td>NaN</td>\n",
       "      <td>NaN</td>\n",
       "    </tr>\n",
       "    <tr>\n",
       "      <th>2</th>\n",
       "      <td>2024</td>\n",
       "      <td>1</td>\n",
       "      <td>NaN</td>\n",
       "      <td>NaN</td>\n",
       "      <td>NaN</td>\n",
       "    </tr>\n",
       "    <tr>\n",
       "      <th>3</th>\n",
       "      <td>2023</td>\n",
       "      <td>2</td>\n",
       "      <td>NaN</td>\n",
       "      <td>NaN</td>\n",
       "      <td>NaN</td>\n",
       "    </tr>\n",
       "    <tr>\n",
       "      <th>4</th>\n",
       "      <td>2022</td>\n",
       "      <td>16</td>\n",
       "      <td>NaN</td>\n",
       "      <td>NaN</td>\n",
       "      <td>NaN</td>\n",
       "    </tr>\n",
       "    <tr>\n",
       "      <th>5</th>\n",
       "      <td>2021</td>\n",
       "      <td>28</td>\n",
       "      <td>NaN</td>\n",
       "      <td>NaN</td>\n",
       "      <td>NaN</td>\n",
       "    </tr>\n",
       "    <tr>\n",
       "      <th>6</th>\n",
       "      <td>2020</td>\n",
       "      <td>87</td>\n",
       "      <td>$112,500,000</td>\n",
       "      <td>NaN</td>\n",
       "      <td>NaN</td>\n",
       "    </tr>\n",
       "    <tr>\n",
       "      <th>7</th>\n",
       "      <td>2019</td>\n",
       "      <td>371</td>\n",
       "      <td>$36,268,750</td>\n",
       "      <td>NaN</td>\n",
       "      <td>NaN</td>\n",
       "    </tr>\n",
       "    <tr>\n",
       "      <th>8</th>\n",
       "      <td>2018</td>\n",
       "      <td>4,391</td>\n",
       "      <td>$57,176,887</td>\n",
       "      <td>$32,270,167,911</td>\n",
       "      <td>Avengers: Infinity War</td>\n",
       "    </tr>\n",
       "    <tr>\n",
       "      <th>9</th>\n",
       "      <td>2017</td>\n",
       "      <td>3,957</td>\n",
       "      <td>$54,517,823</td>\n",
       "      <td>$37,661,783,041</td>\n",
       "      <td>Star Wars Ep. VIII: The Last Jedi</td>\n",
       "    </tr>\n",
       "  </tbody>\n",
       "</table>\n",
       "</div>"
      ],
      "text/plain": [
       "   Year Total Movies Average Production Budget Combined Worldwide Box Office  \\\n",
       "0   TBD        1,782                       NaN                           NaN   \n",
       "1  2025            1                       NaN                           NaN   \n",
       "2  2024            1                       NaN                           NaN   \n",
       "3  2023            2                       NaN                           NaN   \n",
       "4  2022           16                       NaN                           NaN   \n",
       "5  2021           28                       NaN                           NaN   \n",
       "6  2020           87              $112,500,000                           NaN   \n",
       "7  2019          371               $36,268,750                           NaN   \n",
       "8  2018        4,391               $57,176,887               $32,270,167,911   \n",
       "9  2017        3,957               $54,517,823               $37,661,783,041   \n",
       "\n",
       "                         No. 1 Movie  \n",
       "0                                NaN  \n",
       "1                                NaN  \n",
       "2                                NaN  \n",
       "3                                NaN  \n",
       "4                                NaN  \n",
       "5                                NaN  \n",
       "6                                NaN  \n",
       "7                                NaN  \n",
       "8             Avengers: Infinity War  \n",
       "9  Star Wars Ep. VIII: The Last Jedi  "
      ]
     },
     "execution_count": 19,
     "metadata": {},
     "output_type": "execute_result"
    }
   ],
   "source": [
    "box_office = pd.read_csv(\"data/box_office.csv\", delimiter=\";\")\n",
    "box_office.head(10)"
   ]
  },
  {
   "cell_type": "code",
   "execution_count": 20,
   "metadata": {},
   "outputs": [
    {
     "data": {
      "text/html": [
       "<div>\n",
       "<style scoped>\n",
       "    .dataframe tbody tr th:only-of-type {\n",
       "        vertical-align: middle;\n",
       "    }\n",
       "\n",
       "    .dataframe tbody tr th {\n",
       "        vertical-align: top;\n",
       "    }\n",
       "\n",
       "    .dataframe thead th {\n",
       "        text-align: right;\n",
       "    }\n",
       "</style>\n",
       "<table border=\"1\" class=\"dataframe\">\n",
       "  <thead>\n",
       "    <tr style=\"text-align: right;\">\n",
       "      <th></th>\n",
       "      <th>Year</th>\n",
       "      <th>Total Movies</th>\n",
       "      <th>Average Production Budget</th>\n",
       "      <th>Combined Worldwide Box Office</th>\n",
       "      <th>No. 1 Movie</th>\n",
       "    </tr>\n",
       "  </thead>\n",
       "  <tbody>\n",
       "    <tr>\n",
       "      <th>8</th>\n",
       "      <td>2018</td>\n",
       "      <td>4,391</td>\n",
       "      <td>$57,176,887</td>\n",
       "      <td>$32,270,167,911</td>\n",
       "      <td>Avengers: Infinity War</td>\n",
       "    </tr>\n",
       "    <tr>\n",
       "      <th>9</th>\n",
       "      <td>2017</td>\n",
       "      <td>3,957</td>\n",
       "      <td>$54,517,823</td>\n",
       "      <td>$37,661,783,041</td>\n",
       "      <td>Star Wars Ep. VIII: The Last Jedi</td>\n",
       "    </tr>\n",
       "    <tr>\n",
       "      <th>10</th>\n",
       "      <td>2016</td>\n",
       "      <td>3,663</td>\n",
       "      <td>$42,323,318</td>\n",
       "      <td>$36,759,537,509</td>\n",
       "      <td>Captain America: Civil War</td>\n",
       "    </tr>\n",
       "    <tr>\n",
       "      <th>11</th>\n",
       "      <td>2015</td>\n",
       "      <td>3,126</td>\n",
       "      <td>$26,808,427</td>\n",
       "      <td>$35,988,293,278</td>\n",
       "      <td>Star Wars Ep. VII: The Force Awakens</td>\n",
       "    </tr>\n",
       "    <tr>\n",
       "      <th>12</th>\n",
       "      <td>2014</td>\n",
       "      <td>1,632</td>\n",
       "      <td>$30,252,500</td>\n",
       "      <td>$29,907,642,297</td>\n",
       "      <td>Transformers: Age of Extinction</td>\n",
       "    </tr>\n",
       "  </tbody>\n",
       "</table>\n",
       "</div>"
      ],
      "text/plain": [
       "    Year Total Movies Average Production Budget Combined Worldwide Box Office  \\\n",
       "8   2018        4,391               $57,176,887               $32,270,167,911   \n",
       "9   2017        3,957               $54,517,823               $37,661,783,041   \n",
       "10  2016        3,663               $42,323,318               $36,759,537,509   \n",
       "11  2015        3,126               $26,808,427               $35,988,293,278   \n",
       "12  2014        1,632               $30,252,500               $29,907,642,297   \n",
       "\n",
       "                             No. 1 Movie  \n",
       "8                 Avengers: Infinity War  \n",
       "9      Star Wars Ep. VIII: The Last Jedi  \n",
       "10            Captain America: Civil War  \n",
       "11  Star Wars Ep. VII: The Force Awakens  \n",
       "12       Transformers: Age of Extinction  "
      ]
     },
     "execution_count": 20,
     "metadata": {},
     "output_type": "execute_result"
    }
   ],
   "source": [
    "# Removes the TBD row, as well as the years that have not been reached yets (years bigger than 2018)\n",
    "box_office.drop(range(0, 8), axis=0, inplace=True)\n",
    "\n",
    "# Casts the year to integers\n",
    "box_office[\"Year\"] = box_office[\"Year\"].astype(int)\n",
    "\n",
    "# Fills all the missing number with value 0\n",
    "box_office.fillna(\"0\",inplace=True)\n",
    "\n",
    "# Removes the year that have not been reached yet\n",
    "box_office.head(5)"
   ]
  },
  {
   "cell_type": "code",
   "execution_count": 21,
   "metadata": {},
   "outputs": [
    {
     "data": {
      "text/html": [
       "<div>\n",
       "<style scoped>\n",
       "    .dataframe tbody tr th:only-of-type {\n",
       "        vertical-align: middle;\n",
       "    }\n",
       "\n",
       "    .dataframe tbody tr th {\n",
       "        vertical-align: top;\n",
       "    }\n",
       "\n",
       "    .dataframe thead th {\n",
       "        text-align: right;\n",
       "    }\n",
       "</style>\n",
       "<table border=\"1\" class=\"dataframe\">\n",
       "  <thead>\n",
       "    <tr style=\"text-align: right;\">\n",
       "      <th></th>\n",
       "      <th>Year</th>\n",
       "      <th>Total Movies</th>\n",
       "      <th>Average Production Budget</th>\n",
       "      <th>Combined Worldwide Box Office</th>\n",
       "      <th>No. 1 Movie</th>\n",
       "      <th>Yearly Budget</th>\n",
       "    </tr>\n",
       "  </thead>\n",
       "  <tbody>\n",
       "    <tr>\n",
       "      <th>8</th>\n",
       "      <td>2018</td>\n",
       "      <td>4391</td>\n",
       "      <td>57.176887</td>\n",
       "      <td>32.270168</td>\n",
       "      <td>Avengers: Infinity War</td>\n",
       "      <td>251.063711</td>\n",
       "    </tr>\n",
       "    <tr>\n",
       "      <th>9</th>\n",
       "      <td>2017</td>\n",
       "      <td>3957</td>\n",
       "      <td>54.517823</td>\n",
       "      <td>37.661783</td>\n",
       "      <td>Star Wars Ep. VIII: The Last Jedi</td>\n",
       "      <td>215.727026</td>\n",
       "    </tr>\n",
       "    <tr>\n",
       "      <th>10</th>\n",
       "      <td>2016</td>\n",
       "      <td>3663</td>\n",
       "      <td>42.323318</td>\n",
       "      <td>36.759538</td>\n",
       "      <td>Captain America: Civil War</td>\n",
       "      <td>155.030314</td>\n",
       "    </tr>\n",
       "    <tr>\n",
       "      <th>11</th>\n",
       "      <td>2015</td>\n",
       "      <td>3126</td>\n",
       "      <td>26.808427</td>\n",
       "      <td>35.988293</td>\n",
       "      <td>Star Wars Ep. VII: The Force Awakens</td>\n",
       "      <td>83.803143</td>\n",
       "    </tr>\n",
       "    <tr>\n",
       "      <th>12</th>\n",
       "      <td>2014</td>\n",
       "      <td>1632</td>\n",
       "      <td>30.252500</td>\n",
       "      <td>29.907642</td>\n",
       "      <td>Transformers: Age of Extinction</td>\n",
       "      <td>49.372080</td>\n",
       "    </tr>\n",
       "  </tbody>\n",
       "</table>\n",
       "</div>"
      ],
      "text/plain": [
       "    Year  Total Movies  Average Production Budget  \\\n",
       "8   2018          4391                  57.176887   \n",
       "9   2017          3957                  54.517823   \n",
       "10  2016          3663                  42.323318   \n",
       "11  2015          3126                  26.808427   \n",
       "12  2014          1632                  30.252500   \n",
       "\n",
       "    Combined Worldwide Box Office                           No. 1 Movie  \\\n",
       "8                       32.270168                Avengers: Infinity War   \n",
       "9                       37.661783     Star Wars Ep. VIII: The Last Jedi   \n",
       "10                      36.759538            Captain America: Civil War   \n",
       "11                      35.988293  Star Wars Ep. VII: The Force Awakens   \n",
       "12                      29.907642       Transformers: Age of Extinction   \n",
       "\n",
       "    Yearly Budget  \n",
       "8      251.063711  \n",
       "9      215.727026  \n",
       "10     155.030314  \n",
       "11      83.803143  \n",
       "12      49.372080  "
      ]
     },
     "execution_count": 21,
     "metadata": {},
     "output_type": "execute_result"
    }
   ],
   "source": [
    "box_office[\"Average Production Budget\"] = box_office[\"Average Production Budget\"].str.replace(\"[$,]\", '').astype(\n",
    "    float) / 10 ** 6\n",
    "box_office[\"Combined Worldwide Box Office\"] = box_office[\"Combined Worldwide Box Office\"].str.replace(\n",
    "    \"[$,]\",'').astype(int) / 10 ** 9\n",
    "box_office[\"Total Movies\"] = box_office[\"Total Movies\"].str.replace(\",\",'').astype(int)\n",
    "box_office[\"Yearly Budget\"] = box_office[\"Average Production Budget\"] * box_office[\"Total Movies\"] / 10**3\n",
    "box_office.head(5)"
   ]
  },
  {
   "cell_type": "code",
   "execution_count": 22,
   "metadata": {},
   "outputs": [],
   "source": [
    "years = box_office[\"Year\"].values\n",
    "average_budget = box_office[\"Average Production Budget\"].values\n",
    "movies = box_office[\"Total Movies\"].values\n",
    "bo = box_office[\"Combined Worldwide Box Office\"].values\n",
    "budget = box_office[\"Yearly Budget\"].values"
   ]
  },
  {
   "cell_type": "code",
   "execution_count": 23,
   "metadata": {},
   "outputs": [
    {
     "data": {
      "image/png": "[encoded data removed]",
      "text/plain": [
       "<Figure size 1080x576 with 1 Axes>"
      ]
     },
     "metadata": {
      "needs_background": "light"
     },
     "output_type": "display_data"
    }
   ],
   "source": [
    "plt.figure(figsize=(15, 8))\n",
    "plt.hist(years, weights=average_budget, bins=(years.max() - years.min()+1))\n",
    "plt.title(\"Evolution of the average production cost of movies (in million $)\")\n",
    "plt.savefig('docs/img/average_production_costs.png', transparent=True)"
   ]
  },
  {
   "cell_type": "code",
   "execution_count": 24,
   "metadata": {},
   "outputs": [
    {
     "data": {
      "image/png": "[encoded data removed]",
      "text/plain": [
       "<Figure size 1080x576 with 1 Axes>"
      ]
     },
     "metadata": {
      "needs_background": "light"
     },
     "output_type": "display_data"
    }
   ],
   "source": [
    "plt.figure(figsize=(15, 8))\n",
    "plt.hist(years, weights=bo, bins=(years.max() - years.min()+1))\n",
    "plt.title(\"Evolution of the cummulative world-wide boxoffice (in billion $)\")\n",
    "plt.savefig('docs/img/box_office.png', transparent=True)"
   ]
  },
  {
   "cell_type": "code",
   "execution_count": 25,
   "metadata": {},
   "outputs": [
    {
     "data": {
      "image/png": "[encoded data removed]",
      "text/plain": [
       "<Figure size 1080x576 with 1 Axes>"
      ]
     },
     "metadata": {
      "needs_background": "light"
     },
     "output_type": "display_data"
    }
   ],
   "source": [
    "plt.figure(figsize=(15, 8))\n",
    "plt.hist(years, weights=budget, bins=(years.max() - years.min()+1))\n",
    "plt.title(\"Evolution of the yearly production costs (in trillion $)\")\n",
    "plt.savefig('docs/img/production_costs.png', transparent=True)"
   ]
  }
 ],
 "metadata": {
  "kernelspec": {
   "display_name": "Python 3",
   "language": "python",
   "name": "python3"
  },
  "language_info": {
   "codemirror_mode": {
    "name": "ipython",
    "version": 3
   },
   "file_extension": ".py",
   "mimetype": "text/x-python",
   "name": "python",
   "nbconvert_exporter": "python",
   "pygments_lexer": "ipython3",
   "version": "3.6.6"
  }
 },
 "nbformat": 4,
 "nbformat_minor": 2
}
