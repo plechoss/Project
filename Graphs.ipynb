{
 "cells": [
  {
   "cell_type": "code",
   "execution_count": 56,
   "metadata": {},
   "outputs": [],
   "source": [
    "import pandas as pd\n",
    "import matplotlib.pyplot as plt\n",
    "%matplotlib inline"
   ]
  },
  {
   "cell_type": "code",
   "execution_count": 132,
   "metadata": {},
   "outputs": [],
   "source": [
    "box_office = pd.read_csv(\"data/box-office.csv\", delimiter=\";\")\n",
    "box_office.fillna(\"0\",inplace=True)\n",
    "box_office[\"Average Budget\"] = box_office[\"Average Budget\"].str.replace(\"[$,]\",'').astype(float) / 10**6\n",
    "box_office[\"Box office\"] = box_office[\"Box office\"].str.replace(\"[$,]\",'').astype(int) / 10**9\n",
    "box_office[\"Movies\"] = box_office[\"Movies\"].str.replace(\",\",'').astype(int)\n",
    "box_office[\"Year\"] = box_office[\"Year\"].astype(int)"
   ]
  },
  {
   "cell_type": "code",
   "execution_count": 124,
   "metadata": {},
   "outputs": [
    {
     "data": {
      "text/html": [
       "<div>\n",
       "<style scoped>\n",
       "    .dataframe tbody tr th:only-of-type {\n",
       "        vertical-align: middle;\n",
       "    }\n",
       "\n",
       "    .dataframe tbody tr th {\n",
       "        vertical-align: top;\n",
       "    }\n",
       "\n",
       "    .dataframe thead th {\n",
       "        text-align: right;\n",
       "    }\n",
       "</style>\n",
       "<table border=\"1\" class=\"dataframe\">\n",
       "  <thead>\n",
       "    <tr style=\"text-align: right;\">\n",
       "      <th></th>\n",
       "      <th>Year</th>\n",
       "      <th>Movies</th>\n",
       "      <th>Average Budget</th>\n",
       "      <th>Box office</th>\n",
       "    </tr>\n",
       "  </thead>\n",
       "  <tbody>\n",
       "    <tr>\n",
       "      <th>0</th>\n",
       "      <td>2018</td>\n",
       "      <td>4387</td>\n",
       "      <td>57.715238</td>\n",
       "      <td>3217.731463</td>\n",
       "    </tr>\n",
       "    <tr>\n",
       "      <th>1</th>\n",
       "      <td>2017</td>\n",
       "      <td>3957</td>\n",
       "      <td>54.517823</td>\n",
       "      <td>3765.894800</td>\n",
       "    </tr>\n",
       "    <tr>\n",
       "      <th>2</th>\n",
       "      <td>2016</td>\n",
       "      <td>3663</td>\n",
       "      <td>42.323318</td>\n",
       "      <td>3675.976089</td>\n",
       "    </tr>\n",
       "    <tr>\n",
       "      <th>3</th>\n",
       "      <td>2015</td>\n",
       "      <td>3126</td>\n",
       "      <td>26.808427</td>\n",
       "      <td>3598.829369</td>\n",
       "    </tr>\n",
       "    <tr>\n",
       "      <th>4</th>\n",
       "      <td>2014</td>\n",
       "      <td>1632</td>\n",
       "      <td>30.252500</td>\n",
       "      <td>2990.764230</td>\n",
       "    </tr>\n",
       "  </tbody>\n",
       "</table>\n",
       "</div>"
      ],
      "text/plain": [
       "   Year  Movies  Average Budget   Box office\n",
       "0  2018    4387       57.715238  3217.731463\n",
       "1  2017    3957       54.517823  3765.894800\n",
       "2  2016    3663       42.323318  3675.976089\n",
       "3  2015    3126       26.808427  3598.829369\n",
       "4  2014    1632       30.252500  2990.764230"
      ]
     },
     "execution_count": 124,
     "metadata": {},
     "output_type": "execute_result"
    }
   ],
   "source": [
    "box_office.head(5)"
   ]
  },
  {
   "cell_type": "code",
   "execution_count": 134,
   "metadata": {},
   "outputs": [],
   "source": [
    "years = box_office[\"Year\"].values\n",
    "budget = box_office[\"Average Budget\"].values\n",
    "movies = box_office[\"Movies\"].values\n",
    "bo = box_office[\"Box office\"].values"
   ]
  },
  {
   "cell_type": "code",
   "execution_count": 128,
   "metadata": {},
   "outputs": [
    {
     "data": {
      "image/png": "[encoded data removed]",
      "text/plain": [
       "<Figure size 720x360 with 1 Axes>"
      ]
     },
     "metadata": {},
     "output_type": "display_data"
    }
   ],
   "source": [
    "plt.figure(figsize=(10, 5))\n",
    "plt.hist(years, weights=budget, bins=(years.max() - years.min()+1))\n",
    "plt.title(\"Evolution of the average production cost of movies (in million $)\")\n",
    "plt.savefig('docs/img/production_costs.png', transparent=True)"
   ]
  },
  {
   "cell_type": "code",
   "execution_count": 130,
   "metadata": {},
   "outputs": [
    {
     "data": {
      "image/png": "[encoded data removed]",
      "text/plain": [
       "<Figure size 720x360 with 1 Axes>"
      ]
     },
     "metadata": {},
     "output_type": "display_data"
    }
   ],
   "source": [
    "plt.figure(figsize=(10, 5))\n",
    "plt.hist(years, weights=movies, bins=(years.max() - years.min()+1))\n",
    "plt.title(\"Evolution of the yearly number of  movies\")\n",
    "plt.savefig('docs/img/number_of_movies.png', transparent=True)"
   ]
  },
  {
   "cell_type": "code",
   "execution_count": 136,
   "metadata": {},
   "outputs": [
    {
     "data": {
      "image/png": "[encoded data removed]",
      "text/plain": [
       "<Figure size 720x360 with 1 Axes>"
      ]
     },
     "metadata": {},
     "output_type": "display_data"
    }
   ],
   "source": [
    "plt.figure(figsize=(10, 5))\n",
    "plt.hist(years, weights=bo, bins=(years.max() - years.min()+1))\n",
    "plt.title(\"Evolution of the cummulative world-wide boxoffice (in billion $)\")\n",
    "plt.savefig('docs/img/box_office.png', transparent=True)"
   ]
  },
  {
   "cell_type": "code",
   "execution_count": null,
   "metadata": {},
   "outputs": [],
   "source": []
  }
 ],
 "metadata": {
  "kernelspec": {
   "display_name": "Python 3",
   "language": "python",
   "name": "python3"
  },
  "language_info": {
   "codemirror_mode": {
    "name": "ipython",
    "version": 3
   },
   "file_extension": ".py",
   "mimetype": "text/x-python",
   "name": "python",
   "nbconvert_exporter": "python",
   "pygments_lexer": "ipython3",
   "version": "3.6.5"
  }
 },
 "nbformat": 4,
 "nbformat_minor": 2
}
